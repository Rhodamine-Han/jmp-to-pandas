{
 "cells": [
  {
   "cell_type": "code",
   "execution_count": 11,
   "id": "a4a02c79",
   "metadata": {},
   "outputs": [
    {
     "data": {
      "text/plain": [
       "Jan   -20\n",
       "Feb   -10\n",
       "Mar    10\n",
       "Apr    20\n",
       "dtype: int64"
      ]
     },
     "execution_count": 11,
     "metadata": {},
     "output_type": "execute_result"
    }
   ],
   "source": [
    "#series\n",
    "\n",
    "import pandas as pd\n",
    "\n",
    "temp = pd.Series([-20, -10, 10, 20], index = ['Jan', 'Feb', 'Mar', 'Apr'])\n",
    "\n",
    "temp"
   ]
  },
  {
   "cell_type": "code",
   "execution_count": 26,
   "id": "7a78f3dc",
   "metadata": {},
   "outputs": [
    {
     "data": {
      "text/html": [
       "<div>\n",
       "<style scoped>\n",
       "    .dataframe tbody tr th:only-of-type {\n",
       "        vertical-align: middle;\n",
       "    }\n",
       "\n",
       "    .dataframe tbody tr th {\n",
       "        vertical-align: top;\n",
       "    }\n",
       "\n",
       "    .dataframe thead th {\n",
       "        text-align: right;\n",
       "    }\n",
       "</style>\n",
       "<table border=\"1\" class=\"dataframe\">\n",
       "  <thead>\n",
       "    <tr style=\"text-align: right;\">\n",
       "      <th></th>\n",
       "      <th>name</th>\n",
       "      <th>Uni</th>\n",
       "    </tr>\n",
       "  </thead>\n",
       "  <tbody>\n",
       "    <tr>\n",
       "      <th>Student1</th>\n",
       "      <td>Rhodamine</td>\n",
       "      <td>Kyushu</td>\n",
       "    </tr>\n",
       "    <tr>\n",
       "      <th>Student2</th>\n",
       "      <td>Ted</td>\n",
       "      <td>Seoul</td>\n",
       "    </tr>\n",
       "    <tr>\n",
       "      <th>Student3</th>\n",
       "      <td>Hines</td>\n",
       "      <td>Tokyo</td>\n",
       "    </tr>\n",
       "  </tbody>\n",
       "</table>\n",
       "</div>"
      ],
      "text/plain": [
       "               name     Uni\n",
       "Student1  Rhodamine  Kyushu\n",
       "Student2        Ted   Seoul\n",
       "Student3      Hines   Tokyo"
      ]
     },
     "execution_count": 26,
     "metadata": {},
     "output_type": "execute_result"
    }
   ],
   "source": [
    "#Data Frame\n",
    "import pandas as pd\n",
    "\n",
    "\n",
    "data = {\n",
    "    'Uni' : ['Kyushu', 'Seoul', 'Tokyo'], 'Conpany' : ['LGinnotek', 'Samsung Electrics', 'SK hynics'], 'name' : ['Rhodamine', 'Ted', 'Hines']\n",
    "}\n",
    "\n",
    "#df stands for data frame\n",
    "df = pd.DataFrame(data, index = ['Student1', 'Student2', 'Student3'], columns = ['name', 'Uni'])\n",
    "\n",
    "df"
   ]
  },
  {
   "cell_type": "code",
   "execution_count": 20,
   "id": "5f98c71a",
   "metadata": {},
   "outputs": [
    {
     "data": {
      "text/html": [
       "<div>\n",
       "<style scoped>\n",
       "    .dataframe tbody tr th:only-of-type {\n",
       "        vertical-align: middle;\n",
       "    }\n",
       "\n",
       "    .dataframe tbody tr th {\n",
       "        vertical-align: top;\n",
       "    }\n",
       "\n",
       "    .dataframe thead th {\n",
       "        text-align: right;\n",
       "    }\n",
       "</style>\n",
       "<table border=\"1\" class=\"dataframe\">\n",
       "  <thead>\n",
       "    <tr style=\"text-align: right;\">\n",
       "      <th></th>\n",
       "      <th>Conpany</th>\n",
       "      <th>name</th>\n",
       "    </tr>\n",
       "    <tr>\n",
       "      <th>Uni</th>\n",
       "      <th></th>\n",
       "      <th></th>\n",
       "    </tr>\n",
       "  </thead>\n",
       "  <tbody>\n",
       "    <tr>\n",
       "      <th>Kyushu</th>\n",
       "      <td>LGinnotek</td>\n",
       "      <td>Rhodamine</td>\n",
       "    </tr>\n",
       "    <tr>\n",
       "      <th>Seoul</th>\n",
       "      <td>Samsung Electrics</td>\n",
       "      <td>Ted</td>\n",
       "    </tr>\n",
       "    <tr>\n",
       "      <th>Tokyo</th>\n",
       "      <td>SK hynics</td>\n",
       "      <td>Hines</td>\n",
       "    </tr>\n",
       "  </tbody>\n",
       "</table>\n",
       "</div>"
      ],
      "text/plain": [
       "                  Conpany       name\n",
       "Uni                                 \n",
       "Kyushu          LGinnotek  Rhodamine\n",
       "Seoul   Samsung Electrics        Ted\n",
       "Tokyo           SK hynics      Hines"
      ]
     },
     "execution_count": 20,
     "metadata": {},
     "output_type": "execute_result"
    }
   ],
   "source": [
    "#index\n",
    "\n",
    "#Data Frame\n",
    "import pandas as pd\n",
    "\n",
    "\n",
    "data = {\n",
    "    'Uni' : ['Kyushu', 'Seoul', 'Tokyo'], 'Conpany' : ['LGinnotek', 'Samsung Electrics', 'SK hynics'], 'name' : ['Rhodamine', 'Ted', 'Hines']\n",
    "}\n",
    "\n",
    "#df stands for data frame\n",
    "df = pd.DataFrame(data, index = ['Student1', 'Student2', 'Student3'])\n",
    "\n",
    "#reset\n",
    "# df.index.name = 'students information'\n",
    "# df.reset_index()\n",
    "\n",
    "#reset and get rid of previous index\n",
    "# df.index.name = 'students information'\n",
    "# df.reset_index(drop=True, inplace=True)\n",
    "\n",
    "#setting uni as the index\n",
    "#inplace = setting those data as real data\n",
    "# df.set_index('Uni', inplace=True)\n",
    "# df\n",
    "\n",
    "#sorting\n",
    "\n",
    "df.set_index('Uni', inplace=True)\n",
    "df.sort_index()"
   ]
  },
  {
   "cell_type": "code",
   "execution_count": 13,
   "id": "ef043cd8",
   "metadata": {},
   "outputs": [],
   "source": [
    "#File reading and writting\n",
    "\n",
    "#writting\n",
    "# import pandas as pd\n",
    "\n",
    "# data = {\n",
    "#     'Uni' : ['Kyushu', 'Seoul', 'Tokyo'], 'Conpany' : ['LGinnotek', 'Samsung Electrics', 'SK hynics'], 'name' : ['Rhodamine', 'Ted', 'Hines']\n",
    "# }\n",
    "\n",
    "# df = pd.DataFrame(data, index = ['Student1', 'Student2', 'Student3'])\n",
    "\n",
    "# df.to_csv('information.csv')\n",
    "\n",
    "#reading\n",
    "\n",
    "import pandas as pd\n",
    "\n",
    "df = pd.read_excel('OS_test_sorter.xlsx', skiprows = 1, nrows = 10)\n",
    "\n",
    "#df.head()\n",
    "#df.tail(3)\n",
    "#df['Unnamed: 2'].nlargest(3)\n"
   ]
  },
  {
   "cell_type": "code",
   "execution_count": 22,
   "id": "85dee9d8",
   "metadata": {},
   "outputs": [
    {
     "data": {
      "text/plain": [
       "0    0.234\n",
       "1    0.234\n",
       "2    0.234\n",
       "3    0.234\n",
       "4      NaN\n",
       "Name: Unnamed: 2, dtype: float64"
      ]
     },
     "execution_count": 22,
     "metadata": {},
     "output_type": "execute_result"
    }
   ],
   "source": [
    "#data selecting\n",
    "\n",
    "import pandas as pd\n",
    "\n",
    "df = pd.read_excel('OS_test_sorter.xlsx', skiprows = 1, nrows = 10)\n",
    "\n",
    "df[df.columns[-1]][0:5]"
   ]
  },
  {
   "cell_type": "code",
   "execution_count": 43,
   "id": "55afec58",
   "metadata": {},
   "outputs": [
    {
     "data": {
      "text/html": [
       "<div>\n",
       "<style scoped>\n",
       "    .dataframe tbody tr th:only-of-type {\n",
       "        vertical-align: middle;\n",
       "    }\n",
       "\n",
       "    .dataframe tbody tr th {\n",
       "        vertical-align: top;\n",
       "    }\n",
       "\n",
       "    .dataframe thead th {\n",
       "        text-align: right;\n",
       "    }\n",
       "</style>\n",
       "<table border=\"1\" class=\"dataframe\">\n",
       "  <thead>\n",
       "    <tr style=\"text-align: right;\">\n",
       "      <th></th>\n",
       "      <th>Unnamed: 1</th>\n",
       "    </tr>\n",
       "    <tr>\n",
       "      <th>OS1</th>\n",
       "      <th></th>\n",
       "    </tr>\n",
       "  </thead>\n",
       "  <tbody>\n",
       "    <tr>\n",
       "      <th>OS2</th>\n",
       "      <td>NaN</td>\n",
       "    </tr>\n",
       "    <tr>\n",
       "      <th>D0N</th>\n",
       "      <td>0.234</td>\n",
       "    </tr>\n",
       "    <tr>\n",
       "      <th>D0P</th>\n",
       "      <td>0.234</td>\n",
       "    </tr>\n",
       "    <tr>\n",
       "      <th>D1N</th>\n",
       "      <td>0.234</td>\n",
       "    </tr>\n",
       "    <tr>\n",
       "      <th>D1P</th>\n",
       "      <td>0.234</td>\n",
       "    </tr>\n",
       "    <tr>\n",
       "      <th>NaN</th>\n",
       "      <td>NaN</td>\n",
       "    </tr>\n",
       "    <tr>\n",
       "      <th>OS3</th>\n",
       "      <td>NaN</td>\n",
       "    </tr>\n",
       "  </tbody>\n",
       "</table>\n",
       "</div>"
      ],
      "text/plain": [
       "     Unnamed: 1\n",
       "OS1            \n",
       "OS2         NaN\n",
       "D0N       0.234\n",
       "D0P       0.234\n",
       "D1N       0.234\n",
       "D1P       0.234\n",
       "NaN         NaN\n",
       "OS3         NaN"
      ]
     },
     "execution_count": 43,
     "metadata": {},
     "output_type": "execute_result"
    }
   ],
   "source": [
    "#loc\n",
    "\n",
    "import pandas as pd\n",
    "\n",
    "df = pd.read_excel('OS_test_sorter.xlsx', index_col='OS1')\n",
    "#df.loc['D0N']\n",
    "df.loc['OS2':'OS3']\n"
   ]
  },
  {
   "cell_type": "code",
   "execution_count": null,
   "id": "73133329",
   "metadata": {},
   "outputs": [],
   "source": []
  }
 ],
 "metadata": {
  "kernelspec": {
   "display_name": "Python 3 (ipykernel)",
   "language": "python",
   "name": "python3"
  },
  "language_info": {
   "codemirror_mode": {
    "name": "ipython",
    "version": 3
   },
   "file_extension": ".py",
   "mimetype": "text/x-python",
   "name": "python",
   "nbconvert_exporter": "python",
   "pygments_lexer": "ipython3",
   "version": "3.9.7"
  }
 },
 "nbformat": 4,
 "nbformat_minor": 5
}
